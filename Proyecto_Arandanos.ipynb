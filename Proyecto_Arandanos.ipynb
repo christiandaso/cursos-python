{
  "nbformat": 4,
  "nbformat_minor": 0,
  "metadata": {
    "colab": {
      "provenance": [],
      "authorship_tag": "ABX9TyNSSw4PIZLpNNvakknj2TYE",
      "include_colab_link": true
    },
    "kernelspec": {
      "name": "python3",
      "display_name": "Python 3"
    },
    "language_info": {
      "name": "python"
    }
  },
  "cells": [
    {
      "cell_type": "markdown",
      "metadata": {
        "id": "view-in-github",
        "colab_type": "text"
      },
      "source": [
        "<a href=\"https://colab.research.google.com/github/christiandaso/cursos-python/blob/master/Proyecto_Arandanos.ipynb\" target=\"_parent\"><img src=\"https://colab.research.google.com/assets/colab-badge.svg\" alt=\"Open In Colab\"/></a>"
      ]
    },
    {
      "cell_type": "markdown",
      "source": [
        "# PROYECTO INTEGRADOR DE MACHINE LEARNING:\n",
        "Modelado para pronosticar mediante series de tiempo la estimación de la demanda internacional del arándano orgánico de Perú.\n",
        "\n",
        "Integrantes:\n",
        "\n",
        "\n",
        "*   Aguirre Broncano, Christian\n",
        "\n"
      ],
      "metadata": {
        "id": "b9EeDmBvL9_6"
      }
    },
    {
      "cell_type": "code",
      "source": [],
      "metadata": {
        "id": "3jx-zdwoMtwF"
      },
      "execution_count": null,
      "outputs": []
    },
    {
      "cell_type": "code",
      "execution_count": null,
      "metadata": {
        "id": "XjMPcxsqLyiS"
      },
      "outputs": [],
      "source": []
    }
  ]
}